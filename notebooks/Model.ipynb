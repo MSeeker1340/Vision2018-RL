{
 "cells": [
  {
   "cell_type": "code",
   "execution_count": 1,
   "metadata": {},
   "outputs": [
    {
     "name": "stdout",
     "output_type": "stream",
     "text": [
      "/beegfs/xg703/Vision2018-RL\n"
     ]
    }
   ],
   "source": [
    "%cd ..\n",
    "import numpy as np\n",
    "from skeletrack.model import policy_model"
   ]
  },
  {
   "cell_type": "markdown",
   "metadata": {},
   "source": [
    "# Build and train model for the policy\n",
    "\n",
    "Load preprocessed data"
   ]
  },
  {
   "cell_type": "code",
   "execution_count": 2,
   "metadata": {},
   "outputs": [],
   "source": [
    "X_clapping = np.load('dataset/processed/X_clapping.npy')\n",
    "Y_clapping = np.load('dataset/processed/Y_clapping.npy')\n",
    "X_not_clapping = np.load('dataset/processed/X_not_clapping.npy')\n",
    "Y_not_clapping = np.load('dataset/processed/Y_not_clapping.npy')\n",
    "\n",
    "X = np.vstack((X_clapping, X_not_clapping))\n",
    "Y = np.vstack((Y_clapping, Y_not_clapping))\n",
    "np.random.shuffle(X)\n",
    "np.random.shuffle(Y)"
   ]
  },
  {
   "cell_type": "markdown",
   "metadata": {},
   "source": [
    "Train model"
   ]
  },
  {
   "cell_type": "code",
   "execution_count": 3,
   "metadata": {},
   "outputs": [
    {
     "name": "stdout",
     "output_type": "stream",
     "text": [
      "_________________________________________________________________\n",
      "Layer (type)                 Output Shape              Param #   \n",
      "=================================================================\n",
      "dense (Dense)                (None, 78)                6162      \n",
      "_________________________________________________________________\n",
      "dense_1 (Dense)              (None, 60)                4740      \n",
      "_________________________________________________________________\n",
      "dense_2 (Dense)              (None, 60)                3660      \n",
      "_________________________________________________________________\n",
      "dense_3 (Dense)              (None, 39)                2379      \n",
      "_________________________________________________________________\n",
      "dense_4 (Dense)              (None, 39)                1560      \n",
      "=================================================================\n",
      "Total params: 18,501\n",
      "Trainable params: 18,501\n",
      "Non-trainable params: 0\n",
      "_________________________________________________________________\n"
     ]
    }
   ],
   "source": [
    "policy_model.summary()"
   ]
  },
  {
   "cell_type": "code",
   "execution_count": 4,
   "metadata": {},
   "outputs": [
    {
     "data": {
      "text/plain": [
       "(32668, 78)"
      ]
     },
     "execution_count": 4,
     "metadata": {},
     "output_type": "execute_result"
    }
   ],
   "source": [
    "X.shape"
   ]
  },
  {
   "cell_type": "code",
   "execution_count": 5,
   "metadata": {},
   "outputs": [
    {
     "data": {
      "text/plain": [
       "(32668, 40)"
      ]
     },
     "execution_count": 5,
     "metadata": {},
     "output_type": "execute_result"
    }
   ],
   "source": [
    "Y.shape"
   ]
  },
  {
   "cell_type": "code",
   "execution_count": 6,
   "metadata": {},
   "outputs": [
    {
     "name": "stdout",
     "output_type": "stream",
     "text": [
      "Train on 29401 samples, validate on 3267 samples\n",
      "Epoch 1/5\n",
      "29401/29401 [==============================] - 4s 125us/step - loss: 0.0058 - val_loss: 0.0041\n",
      "Epoch 2/5\n",
      "29401/29401 [==============================] - 2s 83us/step - loss: 0.0053 - val_loss: 0.0038\n",
      "Epoch 3/5\n",
      "29401/29401 [==============================] - 3s 85us/step - loss: 0.0051 - val_loss: 0.0037\n",
      "Epoch 4/5\n",
      "29401/29401 [==============================] - 2s 84us/step - loss: 0.0050 - val_loss: 0.0036\n",
      "Epoch 5/5\n",
      "29401/29401 [==============================] - 2s 84us/step - loss: 0.0050 - val_loss: 0.0036\n"
     ]
    }
   ],
   "source": [
    "history = policy_model.fit(X, Y, epochs=5, validation_split=0.1)"
   ]
  },
  {
   "cell_type": "code",
   "execution_count": null,
   "metadata": {},
   "outputs": [],
   "source": []
  }
 ],
 "metadata": {
  "kernelspec": {
   "display_name": "Python 3",
   "language": "python",
   "name": "python3"
  },
  "language_info": {
   "codemirror_mode": {
    "name": "ipython",
    "version": 3
   },
   "file_extension": ".py",
   "mimetype": "text/x-python",
   "name": "python",
   "nbconvert_exporter": "python",
   "pygments_lexer": "ipython3",
   "version": "3.6.6"
  }
 },
 "nbformat": 4,
 "nbformat_minor": 2
}
