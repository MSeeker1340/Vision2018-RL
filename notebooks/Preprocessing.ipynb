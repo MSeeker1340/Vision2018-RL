{
 "cells": [
  {
   "cell_type": "code",
   "execution_count": 1,
   "metadata": {},
   "outputs": [
    {
     "name": "stdout",
     "output_type": "stream",
     "text": [
      "/beegfs/xg703/Vision2018-RL\n"
     ]
    }
   ],
   "source": [
    "%cd ..\n",
    "import numpy as np\n",
    "from skeletrack.io import read_skeleton_file\n",
    "body_info = read_skeleton_file('dataset/raw/clapping/S001C001P001R001A010.skeleton')"
   ]
  },
  {
   "cell_type": "markdown",
   "metadata": {},
   "source": [
    "# Preprocessing"
   ]
  },
  {
   "cell_type": "code",
   "execution_count": 2,
   "metadata": {
    "scrolled": true
   },
   "outputs": [],
   "source": [
    "from skeletrack.preprocessing import preprocess\n",
    "preprocess(body_info, gamma=0.95, is_clapping=True)"
   ]
  },
  {
   "cell_type": "code",
   "execution_count": 3,
   "metadata": {},
   "outputs": [
    {
     "data": {
      "text/html": [
       "<div>\n",
       "<style scoped>\n",
       "    .dataframe tbody tr th:only-of-type {\n",
       "        vertical-align: middle;\n",
       "    }\n",
       "\n",
       "    .dataframe tbody tr th {\n",
       "        vertical-align: top;\n",
       "    }\n",
       "\n",
       "    .dataframe thead th {\n",
       "        text-align: right;\n",
       "    }\n",
       "</style>\n",
       "<table border=\"1\" class=\"dataframe\">\n",
       "  <thead>\n",
       "    <tr style=\"text-align: right;\">\n",
       "      <th></th>\n",
       "      <th>v1</th>\n",
       "      <th>v2</th>\n",
       "      <th>v3</th>\n",
       "      <th>d1</th>\n",
       "      <th>d2</th>\n",
       "      <th>d3</th>\n",
       "      <th>a1</th>\n",
       "      <th>a2</th>\n",
       "      <th>a3</th>\n",
       "    </tr>\n",
       "  </thead>\n",
       "  <tbody>\n",
       "    <tr>\n",
       "      <th>0</th>\n",
       "      <td>1.008033</td>\n",
       "      <td>-0.122525</td>\n",
       "      <td>-0.059198</td>\n",
       "      <td>0.0</td>\n",
       "      <td>0.0</td>\n",
       "      <td>0.0</td>\n",
       "      <td>-0.000023</td>\n",
       "      <td>-0.000325</td>\n",
       "      <td>0.000022</td>\n",
       "    </tr>\n",
       "    <tr>\n",
       "      <th>1</th>\n",
       "      <td>0.501079</td>\n",
       "      <td>-0.065888</td>\n",
       "      <td>-0.041108</td>\n",
       "      <td>0.0</td>\n",
       "      <td>0.0</td>\n",
       "      <td>0.0</td>\n",
       "      <td>-0.000002</td>\n",
       "      <td>-0.000177</td>\n",
       "      <td>0.000039</td>\n",
       "    </tr>\n",
       "    <tr>\n",
       "      <th>2</th>\n",
       "      <td>0.000000</td>\n",
       "      <td>0.000000</td>\n",
       "      <td>0.000000</td>\n",
       "      <td>0.0</td>\n",
       "      <td>0.0</td>\n",
       "      <td>0.0</td>\n",
       "      <td>0.000000</td>\n",
       "      <td>0.000000</td>\n",
       "      <td>0.000000</td>\n",
       "    </tr>\n",
       "    <tr>\n",
       "      <th>3</th>\n",
       "      <td>-0.265429</td>\n",
       "      <td>-0.065333</td>\n",
       "      <td>0.018349</td>\n",
       "      <td>0.0</td>\n",
       "      <td>0.0</td>\n",
       "      <td>0.0</td>\n",
       "      <td>0.000179</td>\n",
       "      <td>0.000143</td>\n",
       "      <td>-0.000244</td>\n",
       "    </tr>\n",
       "    <tr>\n",
       "      <th>4</th>\n",
       "      <td>0.182357</td>\n",
       "      <td>-0.319248</td>\n",
       "      <td>-0.037038</td>\n",
       "      <td>0.0</td>\n",
       "      <td>0.0</td>\n",
       "      <td>0.0</td>\n",
       "      <td>0.000680</td>\n",
       "      <td>-0.000056</td>\n",
       "      <td>-0.000322</td>\n",
       "    </tr>\n",
       "  </tbody>\n",
       "</table>\n",
       "</div>"
      ],
      "text/plain": [
       "         v1        v2        v3   d1   d2   d3        a1        a2        a3\n",
       "0  1.008033 -0.122525 -0.059198  0.0  0.0  0.0 -0.000023 -0.000325  0.000022\n",
       "1  0.501079 -0.065888 -0.041108  0.0  0.0  0.0 -0.000002 -0.000177  0.000039\n",
       "2  0.000000  0.000000  0.000000  0.0  0.0  0.0  0.000000  0.000000  0.000000\n",
       "3 -0.265429 -0.065333  0.018349  0.0  0.0  0.0  0.000179  0.000143 -0.000244\n",
       "4  0.182357 -0.319248 -0.037038  0.0  0.0  0.0  0.000680 -0.000056 -0.000322"
      ]
     },
     "execution_count": 3,
     "metadata": {},
     "output_type": "execute_result"
    }
   ],
   "source": [
    "body_info[0][0].joints[\n",
    "    ['v1','v2','v3','d1','d2','d3','a1','a2','a3']\n",
    "].head()"
   ]
  },
  {
   "cell_type": "code",
   "execution_count": 4,
   "metadata": {},
   "outputs": [
    {
     "data": {
      "text/plain": [
       "0.02903546361765786"
      ]
     },
     "execution_count": 4,
     "metadata": {},
     "output_type": "execute_result"
    }
   ],
   "source": [
    "body_info[0][0].weight"
   ]
  },
  {
   "cell_type": "markdown",
   "metadata": {},
   "source": [
    "## Sanity checks\n",
    "\n",
    "### 1. Coordinate transformation: special joints"
   ]
  },
  {
   "cell_type": "code",
   "execution_count": 5,
   "metadata": {},
   "outputs": [],
   "source": [
    "for i in range(len(body_info)):\n",
    "    for j in range(len(body_info[0])):\n",
    "        joints = body_info[i][j].joints\n",
    "        neck = joints.loc[2][['v1','v2','v3']]\n",
    "        right_hip = joints.loc[16][['v1','v2','v3']]\n",
    "        assert np.all(np.isclose(neck, np.zeros(3)))\n",
    "        assert np.all(np.isclose(right_hip, np.array([1., 0., 0.])))"
   ]
  },
  {
   "cell_type": "markdown",
   "metadata": {},
   "source": [
    "### 2. Displacements"
   ]
  },
  {
   "cell_type": "code",
   "execution_count": 6,
   "metadata": {},
   "outputs": [],
   "source": [
    "for i in range(1, len(body_info)):\n",
    "    for j in range(len(body_info[0])):\n",
    "        vprev = body_info[i-1][j].joints[['v1', 'v2', 'v3']]\n",
    "        vthis = body_info[i][j].joints[['v1', 'v2', 'v3']]\n",
    "        dthis = body_info[i][j].joints[['d1', 'd2', 'd3']]\n",
    "        assert np.all(np.isclose(vthis - vprev, dthis))"
   ]
  },
  {
   "cell_type": "markdown",
   "metadata": {},
   "source": [
    "### 3. Actions"
   ]
  },
  {
   "cell_type": "code",
   "execution_count": 7,
   "metadata": {},
   "outputs": [],
   "source": [
    "for i in range(1, len(body_info) - 1):\n",
    "    for j in range(len(body_info[0])):\n",
    "        vprev = body_info[i-1][j].joints[['v1', 'v2', 'v3']]\n",
    "        vthis = body_info[i][j].joints[['v1', 'v2', 'v3']]\n",
    "        vnext = body_info[i+1][j].joints[['v1', 'v2', 'v3']]\n",
    "        athis = body_info[i][j].joints[['a1', 'a2', 'a3']]\n",
    "        assert np.all(np.isclose(vnext + vprev - 2*vthis, athis))"
   ]
  }
 ],
 "metadata": {
  "kernelspec": {
   "display_name": "Python 3",
   "language": "python",
   "name": "python3"
  },
  "language_info": {
   "codemirror_mode": {
    "name": "ipython",
    "version": 3
   },
   "file_extension": ".py",
   "mimetype": "text/x-python",
   "name": "python",
   "nbconvert_exporter": "python",
   "pygments_lexer": "ipython3",
   "version": "3.6.6"
  }
 },
 "nbformat": 4,
 "nbformat_minor": 2
}
