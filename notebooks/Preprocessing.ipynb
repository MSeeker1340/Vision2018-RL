{
 "cells": [
  {
   "cell_type": "code",
   "execution_count": 1,
   "metadata": {},
   "outputs": [
    {
     "name": "stdout",
     "output_type": "stream",
     "text": [
      "/beegfs/xg703/Vision2018-RL\n"
     ]
    }
   ],
   "source": [
    "%cd ..\n",
    "import numpy as np\n",
    "from skeletrack.io import read_skeleton_file\n",
    "body_info = read_skeleton_file('dataset/raw/clapping/S001C001P001R001A010.skeleton')"
   ]
  },
  {
   "cell_type": "markdown",
   "metadata": {},
   "source": [
    "# Preprocessing"
   ]
  },
  {
   "cell_type": "code",
   "execution_count": 2,
   "metadata": {
    "scrolled": true
   },
   "outputs": [],
   "source": [
    "from skeletrack.preprocessing import preprocess\n",
    "preprocess(body_info, gamma=0.95, is_clapping=True)"
   ]
  },
  {
   "cell_type": "code",
   "execution_count": 3,
   "metadata": {},
   "outputs": [
    {
     "data": {
      "text/html": [
       "<div>\n",
       "<style scoped>\n",
       "    .dataframe tbody tr th:only-of-type {\n",
       "        vertical-align: middle;\n",
       "    }\n",
       "\n",
       "    .dataframe tbody tr th {\n",
       "        vertical-align: top;\n",
       "    }\n",
       "\n",
       "    .dataframe thead th {\n",
       "        text-align: right;\n",
       "    }\n",
       "</style>\n",
       "<table border=\"1\" class=\"dataframe\">\n",
       "  <thead>\n",
       "    <tr style=\"text-align: right;\">\n",
       "      <th></th>\n",
       "      <th>v1</th>\n",
       "      <th>v2</th>\n",
       "      <th>v3</th>\n",
       "      <th>d1</th>\n",
       "      <th>d2</th>\n",
       "      <th>d3</th>\n",
       "      <th>a1</th>\n",
       "      <th>a2</th>\n",
       "      <th>a3</th>\n",
       "    </tr>\n",
       "  </thead>\n",
       "  <tbody>\n",
       "    <tr>\n",
       "      <th>0</th>\n",
       "      <td>1.008033</td>\n",
       "      <td>-0.122525</td>\n",
       "      <td>-0.059198</td>\n",
       "      <td>0.0</td>\n",
       "      <td>0.0</td>\n",
       "      <td>0.0</td>\n",
       "      <td>-0.000023</td>\n",
       "      <td>-0.000325</td>\n",
       "      <td>0.000022</td>\n",
       "    </tr>\n",
       "    <tr>\n",
       "      <th>1</th>\n",
       "      <td>0.501079</td>\n",
       "      <td>-0.065888</td>\n",
       "      <td>-0.041108</td>\n",
       "      <td>0.0</td>\n",
       "      <td>0.0</td>\n",
       "      <td>0.0</td>\n",
       "      <td>-0.000002</td>\n",
       "      <td>-0.000177</td>\n",
       "      <td>0.000039</td>\n",
       "    </tr>\n",
       "    <tr>\n",
       "      <th>2</th>\n",
       "      <td>0.000000</td>\n",
       "      <td>0.000000</td>\n",
       "      <td>0.000000</td>\n",
       "      <td>0.0</td>\n",
       "      <td>0.0</td>\n",
       "      <td>0.0</td>\n",
       "      <td>0.000000</td>\n",
       "      <td>0.000000</td>\n",
       "      <td>0.000000</td>\n",
       "    </tr>\n",
       "    <tr>\n",
       "      <th>3</th>\n",
       "      <td>-0.265429</td>\n",
       "      <td>-0.065333</td>\n",
       "      <td>0.018349</td>\n",
       "      <td>0.0</td>\n",
       "      <td>0.0</td>\n",
       "      <td>0.0</td>\n",
       "      <td>0.000179</td>\n",
       "      <td>0.000143</td>\n",
       "      <td>-0.000244</td>\n",
       "    </tr>\n",
       "    <tr>\n",
       "      <th>4</th>\n",
       "      <td>0.182357</td>\n",
       "      <td>-0.319248</td>\n",
       "      <td>-0.037038</td>\n",
       "      <td>0.0</td>\n",
       "      <td>0.0</td>\n",
       "      <td>0.0</td>\n",
       "      <td>0.000680</td>\n",
       "      <td>-0.000056</td>\n",
       "      <td>-0.000322</td>\n",
       "    </tr>\n",
       "  </tbody>\n",
       "</table>\n",
       "</div>"
      ],
      "text/plain": [
       "         v1        v2        v3   d1   d2   d3        a1        a2        a3\n",
       "0  1.008033 -0.122525 -0.059198  0.0  0.0  0.0 -0.000023 -0.000325  0.000022\n",
       "1  0.501079 -0.065888 -0.041108  0.0  0.0  0.0 -0.000002 -0.000177  0.000039\n",
       "2  0.000000  0.000000  0.000000  0.0  0.0  0.0  0.000000  0.000000  0.000000\n",
       "3 -0.265429 -0.065333  0.018349  0.0  0.0  0.0  0.000179  0.000143 -0.000244\n",
       "4  0.182357 -0.319248 -0.037038  0.0  0.0  0.0  0.000680 -0.000056 -0.000322"
      ]
     },
     "execution_count": 3,
     "metadata": {},
     "output_type": "execute_result"
    }
   ],
   "source": [
    "body_info[0][0].joints[\n",
    "    ['v1','v2','v3','d1','d2','d3','a1','a2','a3']\n",
    "].head()"
   ]
  },
  {
   "cell_type": "code",
   "execution_count": 4,
   "metadata": {},
   "outputs": [
    {
     "data": {
      "text/plain": [
       "0.02903546361765786"
      ]
     },
     "execution_count": 4,
     "metadata": {},
     "output_type": "execute_result"
    }
   ],
   "source": [
    "body_info[0][0].weight"
   ]
  },
  {
   "cell_type": "markdown",
   "metadata": {},
   "source": [
    "## Sanity checks\n",
    "\n",
    "### 1. Coordinate transformation: special joints"
   ]
  },
  {
   "cell_type": "code",
   "execution_count": 5,
   "metadata": {},
   "outputs": [],
   "source": [
    "for i in range(len(body_info)):\n",
    "    for j in range(len(body_info[0])):\n",
    "        joints = body_info[i][j].joints\n",
    "        neck = joints.loc[2][['v1','v2','v3']]\n",
    "        right_hip = joints.loc[16][['v1','v2','v3']]\n",
    "        assert np.all(np.isclose(neck, np.zeros(3)))\n",
    "        assert np.all(np.isclose(right_hip, np.array([1., 0., 0.])))"
   ]
  },
  {
   "cell_type": "markdown",
   "metadata": {},
   "source": [
    "### 2. Displacements"
   ]
  },
  {
   "cell_type": "code",
   "execution_count": 6,
   "metadata": {},
   "outputs": [],
   "source": [
    "for i in range(1, len(body_info)):\n",
    "    for j in range(len(body_info[0])):\n",
    "        vprev = body_info[i-1][j].joints[['v1', 'v2', 'v3']]\n",
    "        vthis = body_info[i][j].joints[['v1', 'v2', 'v3']]\n",
    "        dthis = body_info[i][j].joints[['d1', 'd2', 'd3']]\n",
    "        assert np.all(np.isclose(vthis - vprev, dthis))"
   ]
  },
  {
   "cell_type": "markdown",
   "metadata": {},
   "source": [
    "### 3. Actions"
   ]
  },
  {
   "cell_type": "code",
   "execution_count": 7,
   "metadata": {},
   "outputs": [],
   "source": [
    "for i in range(1, len(body_info) - 1):\n",
    "    for j in range(len(body_info[0])):\n",
    "        vprev = body_info[i-1][j].joints[['v1', 'v2', 'v3']]\n",
    "        vthis = body_info[i][j].joints[['v1', 'v2', 'v3']]\n",
    "        vnext = body_info[i+1][j].joints[['v1', 'v2', 'v3']]\n",
    "        athis = body_info[i][j].joints[['a1', 'a2', 'a3']]\n",
    "        assert np.all(np.isclose(vnext + vprev - 2*vthis, athis))"
   ]
  },
  {
   "cell_type": "markdown",
   "metadata": {},
   "source": [
    "# Build the feature and label tensors"
   ]
  },
  {
   "cell_type": "code",
   "execution_count": 8,
   "metadata": {},
   "outputs": [],
   "source": [
    "from skeletrack.preprocessing import extract_feature_labels"
   ]
  },
  {
   "cell_type": "code",
   "execution_count": 9,
   "metadata": {},
   "outputs": [],
   "source": [
    "X, Y = extract_feature_labels(body_info)"
   ]
  },
  {
   "cell_type": "code",
   "execution_count": 10,
   "metadata": {},
   "outputs": [
    {
     "name": "stdout",
     "output_type": "stream",
     "text": [
      "X.shape = (69, 78)\n",
      "Y.shape = (69, 40)\n"
     ]
    }
   ],
   "source": [
    "print(f\"X.shape = {X.shape}\")\n",
    "print(f\"Y.shape = {Y.shape}\")"
   ]
  },
  {
   "cell_type": "code",
   "execution_count": 11,
   "metadata": {},
   "outputs": [
    {
     "name": "stdout",
     "output_type": "stream",
     "text": [
      "x =  [-0.26542919 -0.06533322  0.01834924  0.          0.          0.\n",
      "  0.18235696 -0.31924757 -0.0370382   0.          0.          0.\n",
      "  0.56655302 -0.16769241  0.30908986  0.          0.          0.\n",
      "  0.21907873 -0.19482129  0.16491655  0.          0.          0.\n",
      "  0.12342204 -0.17354941  0.07058282  0.          0.          0.\n",
      "  0.21987809  0.24196473  0.05240719  0.          0.          0.\n",
      "  0.60338803  0.3912297   0.0186046   0.          0.          0.\n",
      "  0.59726128 -0.00716272  0.32142488  0.          0.          0.\n",
      "  0.57442014 -0.12487792  0.37560585  0.          0.          0.\n",
      " -0.00238041 -0.16161335  0.06582628  0.          0.          0.\n",
      "  0.13784109 -0.26149559  0.05393149  0.          0.          0.\n",
      "  0.57010741 -0.18348408  0.44874836  0.          0.          0.\n",
      "  0.53283577 -0.07650273  0.43608627  0.          0.          0.        ]\n",
      "y =  [ 1.79362565e-04  1.42531674e-04 -2.44409773e-04  6.80003501e-04\n",
      " -5.59703211e-05 -3.21564083e-04  3.98496407e-04  2.38394482e-05\n",
      " -1.58906579e-04  3.32137652e-04 -1.10687330e-04  1.80418644e-04\n",
      "  5.13737112e-03  7.05342212e-03  1.64397937e-02 -3.62614108e-04\n",
      " -3.14550446e-04 -1.16938536e-03 -4.50721851e-04  3.61694980e-03\n",
      " -4.36616025e-03 -1.01897469e-02 -1.21912363e-02  1.34440189e-02\n",
      " -5.94241305e-03 -9.68823355e-04  1.80370473e-02 -6.59512042e-04\n",
      " -2.92318973e-02 -3.00897395e-02  4.22642448e-02  6.26897716e-03\n",
      "  2.11341161e-02 -2.80216293e-02 -1.40552139e-02 -8.70406050e-03\n",
      " -2.01497227e-02 -7.05386412e-03 -1.72983852e-02  2.90354636e-02]\n"
     ]
    }
   ],
   "source": [
    "x = X[0, :]\n",
    "y = Y[0, :]\n",
    "print(\"x = \", x)\n",
    "print(\"y = \", y)"
   ]
  },
  {
   "cell_type": "markdown",
   "metadata": {},
   "source": [
    "Make sure these are correct:"
   ]
  },
  {
   "cell_type": "code",
   "execution_count": 12,
   "metadata": {},
   "outputs": [
    {
     "name": "stdout",
     "output_type": "stream",
     "text": [
      "body.weight =  0.02903546361765786\n"
     ]
    }
   ],
   "source": [
    "body = body_info[0][0]\n",
    "print(\"body.weight = \", body.weight)"
   ]
  },
  {
   "cell_type": "code",
   "execution_count": 13,
   "metadata": {},
   "outputs": [
    {
     "data": {
      "text/html": [
       "<div>\n",
       "<style scoped>\n",
       "    .dataframe tbody tr th:only-of-type {\n",
       "        vertical-align: middle;\n",
       "    }\n",
       "\n",
       "    .dataframe tbody tr th {\n",
       "        vertical-align: top;\n",
       "    }\n",
       "\n",
       "    .dataframe thead th {\n",
       "        text-align: right;\n",
       "    }\n",
       "</style>\n",
       "<table border=\"1\" class=\"dataframe\">\n",
       "  <thead>\n",
       "    <tr style=\"text-align: right;\">\n",
       "      <th></th>\n",
       "      <th>v1</th>\n",
       "      <th>v2</th>\n",
       "      <th>v3</th>\n",
       "      <th>d1</th>\n",
       "      <th>d2</th>\n",
       "      <th>d3</th>\n",
       "      <th>a1</th>\n",
       "      <th>a2</th>\n",
       "      <th>a3</th>\n",
       "    </tr>\n",
       "  </thead>\n",
       "  <tbody>\n",
       "    <tr>\n",
       "      <th>0</th>\n",
       "      <td>1.008033</td>\n",
       "      <td>-1.225247e-01</td>\n",
       "      <td>-5.919816e-02</td>\n",
       "      <td>0.0</td>\n",
       "      <td>0.0</td>\n",
       "      <td>0.0</td>\n",
       "      <td>-0.000023</td>\n",
       "      <td>-3.253120e-04</td>\n",
       "      <td>2.229839e-05</td>\n",
       "    </tr>\n",
       "    <tr>\n",
       "      <th>1</th>\n",
       "      <td>0.501079</td>\n",
       "      <td>-6.588768e-02</td>\n",
       "      <td>-4.110765e-02</td>\n",
       "      <td>0.0</td>\n",
       "      <td>0.0</td>\n",
       "      <td>0.0</td>\n",
       "      <td>-0.000002</td>\n",
       "      <td>-1.766835e-04</td>\n",
       "      <td>3.916164e-05</td>\n",
       "    </tr>\n",
       "    <tr>\n",
       "      <th>2</th>\n",
       "      <td>0.000000</td>\n",
       "      <td>0.000000e+00</td>\n",
       "      <td>0.000000e+00</td>\n",
       "      <td>0.0</td>\n",
       "      <td>0.0</td>\n",
       "      <td>0.0</td>\n",
       "      <td>0.000000</td>\n",
       "      <td>0.000000e+00</td>\n",
       "      <td>0.000000e+00</td>\n",
       "    </tr>\n",
       "    <tr>\n",
       "      <th>3</th>\n",
       "      <td>-0.265429</td>\n",
       "      <td>-6.533322e-02</td>\n",
       "      <td>1.834924e-02</td>\n",
       "      <td>0.0</td>\n",
       "      <td>0.0</td>\n",
       "      <td>0.0</td>\n",
       "      <td>0.000179</td>\n",
       "      <td>1.425317e-04</td>\n",
       "      <td>-2.444098e-04</td>\n",
       "    </tr>\n",
       "    <tr>\n",
       "      <th>4</th>\n",
       "      <td>0.182357</td>\n",
       "      <td>-3.192476e-01</td>\n",
       "      <td>-3.703820e-02</td>\n",
       "      <td>0.0</td>\n",
       "      <td>0.0</td>\n",
       "      <td>0.0</td>\n",
       "      <td>0.000680</td>\n",
       "      <td>-5.597032e-05</td>\n",
       "      <td>-3.215641e-04</td>\n",
       "    </tr>\n",
       "    <tr>\n",
       "      <th>5</th>\n",
       "      <td>0.566553</td>\n",
       "      <td>-1.676924e-01</td>\n",
       "      <td>3.090899e-01</td>\n",
       "      <td>0.0</td>\n",
       "      <td>0.0</td>\n",
       "      <td>0.0</td>\n",
       "      <td>0.000398</td>\n",
       "      <td>2.383945e-05</td>\n",
       "      <td>-1.589066e-04</td>\n",
       "    </tr>\n",
       "    <tr>\n",
       "      <th>6</th>\n",
       "      <td>0.219079</td>\n",
       "      <td>-1.948213e-01</td>\n",
       "      <td>1.649166e-01</td>\n",
       "      <td>0.0</td>\n",
       "      <td>0.0</td>\n",
       "      <td>0.0</td>\n",
       "      <td>0.000332</td>\n",
       "      <td>-1.106873e-04</td>\n",
       "      <td>1.804186e-04</td>\n",
       "    </tr>\n",
       "    <tr>\n",
       "      <th>7</th>\n",
       "      <td>0.123422</td>\n",
       "      <td>-1.735494e-01</td>\n",
       "      <td>7.058282e-02</td>\n",
       "      <td>0.0</td>\n",
       "      <td>0.0</td>\n",
       "      <td>0.0</td>\n",
       "      <td>0.005137</td>\n",
       "      <td>7.053422e-03</td>\n",
       "      <td>1.643979e-02</td>\n",
       "    </tr>\n",
       "    <tr>\n",
       "      <th>8</th>\n",
       "      <td>0.219878</td>\n",
       "      <td>2.419647e-01</td>\n",
       "      <td>5.240719e-02</td>\n",
       "      <td>0.0</td>\n",
       "      <td>0.0</td>\n",
       "      <td>0.0</td>\n",
       "      <td>-0.000363</td>\n",
       "      <td>-3.145504e-04</td>\n",
       "      <td>-1.169385e-03</td>\n",
       "    </tr>\n",
       "    <tr>\n",
       "      <th>9</th>\n",
       "      <td>0.603388</td>\n",
       "      <td>3.912297e-01</td>\n",
       "      <td>1.860460e-02</td>\n",
       "      <td>0.0</td>\n",
       "      <td>0.0</td>\n",
       "      <td>0.0</td>\n",
       "      <td>-0.000451</td>\n",
       "      <td>3.616950e-03</td>\n",
       "      <td>-4.366160e-03</td>\n",
       "    </tr>\n",
       "    <tr>\n",
       "      <th>10</th>\n",
       "      <td>0.597261</td>\n",
       "      <td>-7.162725e-03</td>\n",
       "      <td>3.214249e-01</td>\n",
       "      <td>0.0</td>\n",
       "      <td>0.0</td>\n",
       "      <td>0.0</td>\n",
       "      <td>-0.010190</td>\n",
       "      <td>-1.219124e-02</td>\n",
       "      <td>1.344402e-02</td>\n",
       "    </tr>\n",
       "    <tr>\n",
       "      <th>11</th>\n",
       "      <td>0.574420</td>\n",
       "      <td>-1.248779e-01</td>\n",
       "      <td>3.756058e-01</td>\n",
       "      <td>0.0</td>\n",
       "      <td>0.0</td>\n",
       "      <td>0.0</td>\n",
       "      <td>-0.005942</td>\n",
       "      <td>-9.688234e-04</td>\n",
       "      <td>1.803705e-02</td>\n",
       "    </tr>\n",
       "    <tr>\n",
       "      <th>12</th>\n",
       "      <td>0.992196</td>\n",
       "      <td>-1.891480e-01</td>\n",
       "      <td>1.870217e-18</td>\n",
       "      <td>0.0</td>\n",
       "      <td>0.0</td>\n",
       "      <td>0.0</td>\n",
       "      <td>-0.000018</td>\n",
       "      <td>-4.311283e-04</td>\n",
       "      <td>5.656257e-17</td>\n",
       "    </tr>\n",
       "    <tr>\n",
       "      <th>13</th>\n",
       "      <td>1.708732</td>\n",
       "      <td>-2.178681e-01</td>\n",
       "      <td>-7.419879e-02</td>\n",
       "      <td>0.0</td>\n",
       "      <td>0.0</td>\n",
       "      <td>0.0</td>\n",
       "      <td>-0.001553</td>\n",
       "      <td>4.348313e-03</td>\n",
       "      <td>3.333700e-03</td>\n",
       "    </tr>\n",
       "    <tr>\n",
       "      <th>14</th>\n",
       "      <td>2.436486</td>\n",
       "      <td>-1.862350e-01</td>\n",
       "      <td>-2.659702e-01</td>\n",
       "      <td>0.0</td>\n",
       "      <td>0.0</td>\n",
       "      <td>0.0</td>\n",
       "      <td>0.000997</td>\n",
       "      <td>2.523798e-03</td>\n",
       "      <td>-1.751345e-03</td>\n",
       "    </tr>\n",
       "    <tr>\n",
       "      <th>15</th>\n",
       "      <td>2.592735</td>\n",
       "      <td>-3.203025e-02</td>\n",
       "      <td>-1.653151e-01</td>\n",
       "      <td>0.0</td>\n",
       "      <td>0.0</td>\n",
       "      <td>0.0</td>\n",
       "      <td>0.010450</td>\n",
       "      <td>-1.389050e-02</td>\n",
       "      <td>-1.460619e-03</td>\n",
       "    </tr>\n",
       "    <tr>\n",
       "      <th>16</th>\n",
       "      <td>1.000000</td>\n",
       "      <td>-1.497381e-18</td>\n",
       "      <td>-3.153744e-17</td>\n",
       "      <td>0.0</td>\n",
       "      <td>0.0</td>\n",
       "      <td>0.0</td>\n",
       "      <td>0.000000</td>\n",
       "      <td>-1.532429e-17</td>\n",
       "      <td>3.618403e-17</td>\n",
       "    </tr>\n",
       "    <tr>\n",
       "      <th>17</th>\n",
       "      <td>1.733053</td>\n",
       "      <td>7.982005e-02</td>\n",
       "      <td>-3.672951e-02</td>\n",
       "      <td>0.0</td>\n",
       "      <td>0.0</td>\n",
       "      <td>0.0</td>\n",
       "      <td>-0.001462</td>\n",
       "      <td>1.434108e-03</td>\n",
       "      <td>4.217246e-04</td>\n",
       "    </tr>\n",
       "    <tr>\n",
       "      <th>18</th>\n",
       "      <td>2.472703</td>\n",
       "      <td>-1.695670e-03</td>\n",
       "      <td>-2.192425e-01</td>\n",
       "      <td>0.0</td>\n",
       "      <td>0.0</td>\n",
       "      <td>0.0</td>\n",
       "      <td>0.001996</td>\n",
       "      <td>-1.481635e-03</td>\n",
       "      <td>-1.528962e-03</td>\n",
       "    </tr>\n",
       "    <tr>\n",
       "      <th>19</th>\n",
       "      <td>2.537186</td>\n",
       "      <td>-8.137393e-03</td>\n",
       "      <td>1.226669e-02</td>\n",
       "      <td>0.0</td>\n",
       "      <td>0.0</td>\n",
       "      <td>0.0</td>\n",
       "      <td>0.002024</td>\n",
       "      <td>-1.217785e-03</td>\n",
       "      <td>-1.610287e-03</td>\n",
       "    </tr>\n",
       "    <tr>\n",
       "      <th>20</th>\n",
       "      <td>0.124771</td>\n",
       "      <td>-1.834531e-02</td>\n",
       "      <td>-1.433808e-02</td>\n",
       "      <td>0.0</td>\n",
       "      <td>0.0</td>\n",
       "      <td>0.0</td>\n",
       "      <td>-0.000002</td>\n",
       "      <td>-4.661671e-05</td>\n",
       "      <td>7.366236e-06</td>\n",
       "    </tr>\n",
       "    <tr>\n",
       "      <th>21</th>\n",
       "      <td>-0.002380</td>\n",
       "      <td>-1.616133e-01</td>\n",
       "      <td>6.582628e-02</td>\n",
       "      <td>0.0</td>\n",
       "      <td>0.0</td>\n",
       "      <td>0.0</td>\n",
       "      <td>-0.000660</td>\n",
       "      <td>-2.923190e-02</td>\n",
       "      <td>-3.008974e-02</td>\n",
       "    </tr>\n",
       "    <tr>\n",
       "      <th>22</th>\n",
       "      <td>0.137841</td>\n",
       "      <td>-2.614956e-01</td>\n",
       "      <td>5.393149e-02</td>\n",
       "      <td>0.0</td>\n",
       "      <td>0.0</td>\n",
       "      <td>0.0</td>\n",
       "      <td>0.042264</td>\n",
       "      <td>6.268977e-03</td>\n",
       "      <td>2.113412e-02</td>\n",
       "    </tr>\n",
       "    <tr>\n",
       "      <th>23</th>\n",
       "      <td>0.570107</td>\n",
       "      <td>-1.834841e-01</td>\n",
       "      <td>4.487484e-01</td>\n",
       "      <td>0.0</td>\n",
       "      <td>0.0</td>\n",
       "      <td>0.0</td>\n",
       "      <td>-0.028022</td>\n",
       "      <td>-1.405521e-02</td>\n",
       "      <td>-8.704061e-03</td>\n",
       "    </tr>\n",
       "    <tr>\n",
       "      <th>24</th>\n",
       "      <td>0.532836</td>\n",
       "      <td>-7.650273e-02</td>\n",
       "      <td>4.360863e-01</td>\n",
       "      <td>0.0</td>\n",
       "      <td>0.0</td>\n",
       "      <td>0.0</td>\n",
       "      <td>-0.020150</td>\n",
       "      <td>-7.053864e-03</td>\n",
       "      <td>-1.729839e-02</td>\n",
       "    </tr>\n",
       "  </tbody>\n",
       "</table>\n",
       "</div>"
      ],
      "text/plain": [
       "          v1            v2            v3   d1   d2   d3        a1  \\\n",
       "0   1.008033 -1.225247e-01 -5.919816e-02  0.0  0.0  0.0 -0.000023   \n",
       "1   0.501079 -6.588768e-02 -4.110765e-02  0.0  0.0  0.0 -0.000002   \n",
       "2   0.000000  0.000000e+00  0.000000e+00  0.0  0.0  0.0  0.000000   \n",
       "3  -0.265429 -6.533322e-02  1.834924e-02  0.0  0.0  0.0  0.000179   \n",
       "4   0.182357 -3.192476e-01 -3.703820e-02  0.0  0.0  0.0  0.000680   \n",
       "5   0.566553 -1.676924e-01  3.090899e-01  0.0  0.0  0.0  0.000398   \n",
       "6   0.219079 -1.948213e-01  1.649166e-01  0.0  0.0  0.0  0.000332   \n",
       "7   0.123422 -1.735494e-01  7.058282e-02  0.0  0.0  0.0  0.005137   \n",
       "8   0.219878  2.419647e-01  5.240719e-02  0.0  0.0  0.0 -0.000363   \n",
       "9   0.603388  3.912297e-01  1.860460e-02  0.0  0.0  0.0 -0.000451   \n",
       "10  0.597261 -7.162725e-03  3.214249e-01  0.0  0.0  0.0 -0.010190   \n",
       "11  0.574420 -1.248779e-01  3.756058e-01  0.0  0.0  0.0 -0.005942   \n",
       "12  0.992196 -1.891480e-01  1.870217e-18  0.0  0.0  0.0 -0.000018   \n",
       "13  1.708732 -2.178681e-01 -7.419879e-02  0.0  0.0  0.0 -0.001553   \n",
       "14  2.436486 -1.862350e-01 -2.659702e-01  0.0  0.0  0.0  0.000997   \n",
       "15  2.592735 -3.203025e-02 -1.653151e-01  0.0  0.0  0.0  0.010450   \n",
       "16  1.000000 -1.497381e-18 -3.153744e-17  0.0  0.0  0.0  0.000000   \n",
       "17  1.733053  7.982005e-02 -3.672951e-02  0.0  0.0  0.0 -0.001462   \n",
       "18  2.472703 -1.695670e-03 -2.192425e-01  0.0  0.0  0.0  0.001996   \n",
       "19  2.537186 -8.137393e-03  1.226669e-02  0.0  0.0  0.0  0.002024   \n",
       "20  0.124771 -1.834531e-02 -1.433808e-02  0.0  0.0  0.0 -0.000002   \n",
       "21 -0.002380 -1.616133e-01  6.582628e-02  0.0  0.0  0.0 -0.000660   \n",
       "22  0.137841 -2.614956e-01  5.393149e-02  0.0  0.0  0.0  0.042264   \n",
       "23  0.570107 -1.834841e-01  4.487484e-01  0.0  0.0  0.0 -0.028022   \n",
       "24  0.532836 -7.650273e-02  4.360863e-01  0.0  0.0  0.0 -0.020150   \n",
       "\n",
       "              a2            a3  \n",
       "0  -3.253120e-04  2.229839e-05  \n",
       "1  -1.766835e-04  3.916164e-05  \n",
       "2   0.000000e+00  0.000000e+00  \n",
       "3   1.425317e-04 -2.444098e-04  \n",
       "4  -5.597032e-05 -3.215641e-04  \n",
       "5   2.383945e-05 -1.589066e-04  \n",
       "6  -1.106873e-04  1.804186e-04  \n",
       "7   7.053422e-03  1.643979e-02  \n",
       "8  -3.145504e-04 -1.169385e-03  \n",
       "9   3.616950e-03 -4.366160e-03  \n",
       "10 -1.219124e-02  1.344402e-02  \n",
       "11 -9.688234e-04  1.803705e-02  \n",
       "12 -4.311283e-04  5.656257e-17  \n",
       "13  4.348313e-03  3.333700e-03  \n",
       "14  2.523798e-03 -1.751345e-03  \n",
       "15 -1.389050e-02 -1.460619e-03  \n",
       "16 -1.532429e-17  3.618403e-17  \n",
       "17  1.434108e-03  4.217246e-04  \n",
       "18 -1.481635e-03 -1.528962e-03  \n",
       "19 -1.217785e-03 -1.610287e-03  \n",
       "20 -4.661671e-05  7.366236e-06  \n",
       "21 -2.923190e-02 -3.008974e-02  \n",
       "22  6.268977e-03  2.113412e-02  \n",
       "23 -1.405521e-02 -8.704061e-03  \n",
       "24 -7.053864e-03 -1.729839e-02  "
      ]
     },
     "execution_count": 13,
     "metadata": {},
     "output_type": "execute_result"
    }
   ],
   "source": [
    "body.joints[\n",
    "    ['v1','v2','v3','d1','d2','d3','a1','a2','a3']\n",
    "]"
   ]
  },
  {
   "cell_type": "markdown",
   "metadata": {},
   "source": [
    "\n",
    "# Batch preprocessing"
   ]
  },
  {
   "cell_type": "code",
   "execution_count": 14,
   "metadata": {},
   "outputs": [],
   "source": [
    "from pathlib import Path\n",
    "from progressbar import progressbar\n",
    "Npositives = 200\n",
    "Nnegatives = 200\n",
    "np.random.seed(0)"
   ]
  },
  {
   "cell_type": "markdown",
   "metadata": {},
   "source": [
    "## 1. Preprocess positive (clapping) examples"
   ]
  },
  {
   "cell_type": "code",
   "execution_count": 15,
   "metadata": {},
   "outputs": [],
   "source": [
    "path = Path('dataset/raw/clapping/')\n",
    "skfiles = np.array(list(path.iterdir()))\n",
    "np.random.shuffle(skfiles)\n",
    "skfiles = skfiles[:Npositives]"
   ]
  },
  {
   "cell_type": "code",
   "execution_count": 16,
   "metadata": {},
   "outputs": [
    {
     "name": "stderr",
     "output_type": "stream",
     "text": [
      "100% (200 of 200) |######################| Elapsed Time: 0:01:23 Time:  0:01:23\n"
     ]
    }
   ],
   "source": [
    "Xs = []\n",
    "Ys = []\n",
    "for skfile in progressbar(skfiles):\n",
    "    try: # some files contain appearing/disappearing bodies and should be discarded\n",
    "        bodyinfo = read_skeleton_file(skfile)\n",
    "        preprocess(bodyinfo, gamma=0.95, is_clapping=True)\n",
    "        X, Y = extract_feature_labels(bodyinfo)\n",
    "        Xs.append(X)\n",
    "        Ys.append(Y)\n",
    "    except:\n",
    "        pass\n",
    "X = np.vstack(Xs)\n",
    "Y = np.vstack(Ys)"
   ]
  },
  {
   "cell_type": "code",
   "execution_count": 17,
   "metadata": {},
   "outputs": [],
   "source": [
    "np.save(\"dataset/processed/X_clapping.npy\", X)\n",
    "np.save(\"dataset/processed/Y_clapping.npy\", Y)"
   ]
  },
  {
   "cell_type": "markdown",
   "metadata": {},
   "source": [
    "## 2. Preprocess negative (non-clapping) examples"
   ]
  },
  {
   "cell_type": "code",
   "execution_count": 18,
   "metadata": {},
   "outputs": [],
   "source": [
    "path = Path('dataset/raw/not-clapping/')\n",
    "skfiles = np.array(list(path.iterdir()))\n",
    "np.random.shuffle(skfiles)\n",
    "skfiles = skfiles[:Nnegatives]"
   ]
  },
  {
   "cell_type": "code",
   "execution_count": 19,
   "metadata": {},
   "outputs": [
    {
     "name": "stderr",
     "output_type": "stream",
     "text": [
      "100% (200 of 200) |######################| Elapsed Time: 0:01:54 Time:  0:01:54\n"
     ]
    }
   ],
   "source": [
    "Xs = []\n",
    "Ys = []\n",
    "for skfile in progressbar(skfiles):\n",
    "    try: # some files contain appearing/disappearing bodies and should be discarded\n",
    "        bodyinfo = read_skeleton_file(skfile)\n",
    "        preprocess(bodyinfo, gamma=0.95, is_clapping=False)\n",
    "        X, Y = extract_feature_labels(bodyinfo)\n",
    "        Xs.append(X)\n",
    "        Ys.append(Y)\n",
    "    except:\n",
    "        pass\n",
    "X = np.vstack(Xs)\n",
    "Y = np.vstack(Ys)"
   ]
  },
  {
   "cell_type": "code",
   "execution_count": 20,
   "metadata": {},
   "outputs": [],
   "source": [
    "np.save(\"dataset/processed/X_not_clapping.npy\", X)\n",
    "np.save(\"dataset/processed/Y_not_clapping.npy\", Y)"
   ]
  }
 ],
 "metadata": {
  "kernelspec": {
   "display_name": "Python 3",
   "language": "python",
   "name": "python3"
  },
  "language_info": {
   "codemirror_mode": {
    "name": "ipython",
    "version": 3
   },
   "file_extension": ".py",
   "mimetype": "text/x-python",
   "name": "python",
   "nbconvert_exporter": "python",
   "pygments_lexer": "ipython3",
   "version": "3.6.6"
  }
 },
 "nbformat": 4,
 "nbformat_minor": 2
}
